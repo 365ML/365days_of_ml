{
 "cells": [
  {
   "cell_type": "markdown",
   "metadata": {},
   "source": [
    "# Variational AutoEncoder in Pytorch\n",
    "\n",
    "For today's quick project, we're going to reproduce a classic unsuperviser network in Pytorch.\n",
    "\n",
    "## Recipe difficulty:\n",
    "\n",
    "* Statistics: 🔥🔥🔥 - you don't need any specific knowledge, but you need to grasp the concept of latent gaussians. \n",
    "* Technical: 🔥 - nothing wild here, and in fact the network is so small you don't even need CUDA\n",
    "* Time required: 🕜 - training iterations are fast, and the code is short and to the point. It took me 83 minutes total to write this.\n",
    "\n",
    "## What it is\n",
    "\n",
    "The statistical intuition between a VAE which is actually quite straightforward: we use an **encoder** network to 'compress' image data down to two (or more) N-dimensional vectors, which represent an array of scale and distribution parameters from a distribution of choice (typically a Gaussian).\n",
    "\n",
    "A **decoder** network is then used to translate this set of latent distributions back to an image.\n",
    "\n",
    "The encoder and the decoder are jointly optimized using a simple **mean square error between the ground truth and reconstructed** pixels. This is the first half of the loss function. \n",
    "\n",
    "The second part of the loss function is the **Kullback-Leibler divergence**, which can be seen as a regularization term between our latent set of distributions and a set of gaussians. This is to make sure that all latent sampled are coming from the same distribution (i.e. we want our set of 20 sampled parameters to be probabilistically close to the 'true' mu and sigma in the sample space.\n",
    "\n",
    "As usual, this is by no mean an exhaustive explanation - [Kevin Frans' amazing blogpost](http://kvfrans.com/variational-autoencoders-explained/) is a good starting point if you want to know more.\n",
    "\n",
    "## Why it is useful\n",
    "\n",
    "A VAE is a fully unsupervised dimensionality reduction method. It can be useful, for instance, to reduce related data down to a more manageable number of variables, without needing any labelling work.\n",
    "\n",
    "Note that VAEs can also work on non-image data!\n",
    "\n",
    "Finally, they are the easiest to grasp out of all generative models. In this post I'll show how to sample the latent distribution to generate completely new data"
   ]
  },
  {
   "cell_type": "markdown",
   "metadata": {},
   "source": [
    "We start with the usual imports. I'm using Pytorch here, as it allows for a more understandable joint optimization than say, Keras. "
   ]
  },
  {
   "cell_type": "code",
   "execution_count": 13,
   "metadata": {},
   "outputs": [],
   "source": [
    "import torch\n",
    "import numpy as np\n",
    "from torch.utils.data import Dataset, DataLoader\n",
    "from torch import nn\n",
    "from torchvision import transforms\n",
    "import matplotlib.pyplot as plt\n",
    "import torchvision\n",
    "import torch.nn.functional as F\n",
    "from torch.autograd import Variable\n",
    "from torch import optim\n",
    "\n",
    "%matplotlib inline\n",
    "\n",
    "GPU = True\n",
    "\n",
    "if not torch.cuda.is_available():\n",
    "    print('no GPU detected, check CUDA install')\n",
    "    GPU = False"
   ]
  },
  {
   "cell_type": "markdown",
   "metadata": {},
   "source": [
    "We use Fashion MNIST, which is a more interesting drop-in replacement for the classic MNIST digits dataset as our image source."
   ]
  },
  {
   "cell_type": "code",
   "execution_count": 38,
   "metadata": {},
   "outputs": [],
   "source": [
    "trans = transforms.Compose([transforms.ToTensor(),\n",
    "                                    transforms.Normalize((0.5, 0.5, 0.5), (0.5, 0.5, 0.5))])\n",
    "\n",
    "dataset = torchvision.datasets.FashionMNIST('day1/data', download=True, \n",
    "                                            transform=trans)\n",
    "dataset\n",
    "dataloader = DataLoader(dataset, batch_size=128, shuffle=True)"
   ]
  },
  {
   "cell_type": "code",
   "execution_count": 39,
   "metadata": {},
   "outputs": [
    {
     "data": {
      "image/png": "[encoded data removed]",
      "text/plain": [
       "<Figure size 720x144 with 6 Axes>"
      ]
     },
     "metadata": {
      "needs_background": "light"
     },
     "output_type": "display_data"
    }
   ],
   "source": [
    "classes = ['T-shirt/top','Trouser','Pullover','Dress','Coat',\n",
    "           'Sandal','Shirt','Sneaker','Bag','Ankle boot']\n",
    "\n",
    "fig, axes = plt.subplots(1,6, figsize=(10,2))\n",
    "for ax in axes.ravel():\n",
    "    r= iter(dataloader).next()\n",
    "    ax.imshow(r[0].numpy()[1].reshape(28,28), cmap='bone_r')\n",
    "    ax.set_title(classes[r[1].numpy()[1]])\n",
    "    ax.axis('off')"
   ]
  },
  {
   "cell_type": "markdown",
   "metadata": {},
   "source": [
    "VAE is our Variational Autoencoder network.\n",
    "It uses a simple set of linear activations, with input and output equal to the flattened image (28x28 pixels = 784), and a set of 20 activation parameters for both mu and sigma. The latter is supposed to be a logarithmic variable, since there can be no negative scale parameter.\n",
    "\n",
    "* The **encode** function reduces the input image to a set of 20 location (mu) and 20 scale (sigma) parameters\n",
    "* The **parametric** function uses these parameter to generate a vector of 20 samples.\n",
    "* The **decode** function projects the samples back into the image space."
   ]
  },
  {
   "cell_type": "code",
   "execution_count": 40,
   "metadata": {},
   "outputs": [],
   "source": [
    "class VAE(nn.Module):\n",
    "    def __init__(self):\n",
    "        super().__init__()\n",
    "        \n",
    "        self.input_layer = nn.Linear(784, 400)\n",
    "        self.mu = nn.Linear(400, 20)\n",
    "        self.sigma = nn.Linear(400, 20)\n",
    "        \n",
    "        self.upscale_sample = nn.Linear(20, 400)\n",
    "        self.output_layer = nn.Linear(400, 784)\n",
    "        \n",
    "    def encode(self, x):\n",
    "        x = F.relu(self.input_layer(x))\n",
    "        return self.mu(x), self.sigma(x)\n",
    "    \n",
    "    def parametric(self, mu, sigma):\n",
    "        # A gaussian with\n",
    "        # mu mean between 0 and inf\n",
    "        # sigma std between 0 and inf\n",
    "        \n",
    "        std = sigma.exp()\n",
    "        if GPU:\n",
    "            sample = torch.cuda.FloatTensor(mu.size()).normal_()\n",
    "        else:\n",
    "            sample = torch.FloatTensor(mu.size()).normal_()\n",
    "            \n",
    "        sample = Variable(sample)\n",
    "        return sample.mul(std).add(mu)\n",
    "    \n",
    "    def decode(self, sample):\n",
    "        x = F.relu(self.upscale_sample(sample))\n",
    "        return torch.sigmoid(self.output_layer(x))\n",
    "    \n",
    "    \n",
    "    def forward(self, x):\n",
    "        mu, sigma = self.encode(x)\n",
    "        sample = self.parametric(mu, sigma)\n",
    "        return self.decode(sample), mu, sigma"
   ]
  },
  {
   "cell_type": "code",
   "execution_count": 41,
   "metadata": {},
   "outputs": [],
   "source": [
    "model = VAE()\n",
    "\n",
    "if GPU:\n",
    "    model.cuda()"
   ]
  },
  {
   "cell_type": "markdown",
   "metadata": {},
   "source": [
    "The loss function is, as mentioned, the sum of a mean squared error and the KL divergence.\n",
    "\n",
    "For the standard normal case, the KL divergence reduces to the below equation. I have derived this back when I studied statistics, but nowadays I just trust the result :)"
   ]
  },
  {
   "cell_type": "code",
   "execution_count": 42,
   "metadata": {},
   "outputs": [],
   "source": [
    "def loss_function(reconstructed, ground_truth, mu, sigma):\n",
    "    image_loss = nn.MSELoss(reduction='sum')(reconstructed, ground_truth)\n",
    "    KL_divergence_loss = -0.5 * torch.sum(1 + sigma - mu.pow(2) - sigma.exp())\n",
    "    return image_loss, KL_divergence_loss\n",
    "\n",
    "\n",
    "optimizer = optim.Adam(model.parameters(), lr=1e-3)"
   ]
  },
  {
   "cell_type": "markdown",
   "metadata": {},
   "source": [
    "The model stops improving after around 20 epochs.\n",
    "\n",
    "The key steps here are, as typical for Pytorch (but more involved from people coming from Sklearn or Keras), that you:\n",
    "\n",
    "* zero-out the gradient from your optimizer \n",
    "* you calculate the loss function based on input and output from your model\n",
    "* you do a .backward() step on the loss for backprop\n",
    "* you move on to the next step"
   ]
  },
  {
   "cell_type": "code",
   "execution_count": 45,
   "metadata": {},
   "outputs": [
    {
     "name": "stdout",
     "output_type": "stream",
     "text": [
      "====> Epoch: 0 Average KL loss: 472.3373, Average MSE loss: 6.8929, Average loss: 479.2302\n",
      "====> Epoch: 1 Average KL loss: 471.4956, Average MSE loss: 6.8626, Average loss: 478.3582\n",
      "====> Epoch: 2 Average KL loss: 470.7567, Average MSE loss: 6.8633, Average loss: 477.6199\n",
      "====> Epoch: 3 Average KL loss: 470.1885, Average MSE loss: 6.8936, Average loss: 477.0821\n",
      "====> Epoch: 4 Average KL loss: 469.6948, Average MSE loss: 6.8892, Average loss: 476.5840\n",
      "====> Epoch: 5 Average KL loss: 469.2154, Average MSE loss: 6.9267, Average loss: 476.1422\n",
      "====> Epoch: 6 Average KL loss: 468.8340, Average MSE loss: 6.9498, Average loss: 475.7838\n",
      "====> Epoch: 7 Average KL loss: 468.5081, Average MSE loss: 6.9733, Average loss: 475.4815\n",
      "====> Epoch: 8 Average KL loss: 468.2431, Average MSE loss: 6.9910, Average loss: 475.2341\n",
      "====> Epoch: 9 Average KL loss: 467.9756, Average MSE loss: 7.0138, Average loss: 474.9893\n"
     ]
    }
   ],
   "source": [
    "epochs = 10\n",
    "\n",
    "for epoch in range(epochs):\n",
    "    model.train()\n",
    "    train_loss_im, train_loss_kl = 0, 0\n",
    "    for batch_id, data in enumerate(dataloader):\n",
    "        img, _ = data\n",
    "        # reshape\n",
    "        img = img.view(img.size(0), -1)\n",
    "        img = Variable(img)\n",
    "        if GPU:\n",
    "            img = img.cuda()\n",
    "        \n",
    "        optimizer.zero_grad()\n",
    "        batch, mu, sigma = model(img)\n",
    "        loss_im, loss_kl = loss_function(batch, img, mu, sigma)\n",
    "        loss = loss_im + loss_kl\n",
    "        loss.backward()\n",
    "        optimizer.step()\n",
    "        \n",
    "        train_loss_im += loss_im\n",
    "        train_loss_kl += loss_kl\n",
    "       \n",
    "    print('====> Epoch: {} Average KL loss: {:.4f}, Average MSE loss: {:.4f}, Average loss: {:.4f}'.format(\n",
    "    epoch, train_loss_im / len(dataloader.dataset), \n",
    "        train_loss_kl / len(dataloader.dataset), (train_loss_im+train_loss_kl)/ len(dataloader.dataset)))"
   ]
  },
  {
   "cell_type": "markdown",
   "metadata": {},
   "source": [
    "The model reconstructs the original inputs decently:"
   ]
  },
  {
   "cell_type": "code",
   "execution_count": 78,
   "metadata": {},
   "outputs": [
    {
     "data": {
      "text/plain": [
       "[]"
      ]
     },
     "execution_count": 78,
     "metadata": {},
     "output_type": "execute_result"
    },
    {
     "data": {
      "image/png": "[encoded data removed]",
      "text/plain": [
       "<Figure size 432x288 with 2 Axes>"
      ]
     },
     "metadata": {
      "needs_background": "light"
     },
     "output_type": "display_data"
    }
   ],
   "source": [
    "model.eval()\n",
    "ev_img = iter(dataloader).next()[0].numpy()[1].reshape(28,28)\n",
    "ev_img_r = ev_img.ravel()\n",
    "\n",
    "ev_mu, ev_sigma = model.encode(torch.from_numpy(ev_img_r).cuda())\n",
    "ev_param_tensor = model.parametric(ev_mu,ev_sigma)\n",
    "ev_out = model.decode(ev_param_tensor).cpu().detach().numpy().reshape(28,28)\n",
    "\n",
    "fig, ax = plt.subplots(1,2)\n",
    "ax[0].set_title('original image')\n",
    "ax[0].imshow(ev_img, cmap='bone_r')\n",
    "ax[1].set_title('reconstructed')\n",
    "ax[1].imshow(ev_out, cmap='bone_r')\n",
    "plt.plot()"
   ]
  },
  {
   "cell_type": "markdown",
   "metadata": {},
   "source": [
    "As a bonus, we can just sample from the full distribution to create new clothes!"
   ]
  },
  {
   "cell_type": "code",
   "execution_count": 109,
   "metadata": {},
   "outputs": [],
   "source": [
    "def generate_with_offset(x):\n",
    "    ev_mu_sl = ev_mu.add(x)\n",
    "    ev_param_tensor = model.parametric(ev_mu_sl,ev_sigma)\n",
    "    ev_out = model.decode(ev_param_tensor).cpu().detach().numpy().reshape(28,28)\n",
    "    return ev_out\n",
    "    \n",
    "generative_clothes = [generate_with_offset(i) for i in np.arange(-.5,3,.25)]"
   ]
  },
  {
   "cell_type": "code",
   "execution_count": 114,
   "metadata": {},
   "outputs": [
    {
     "data": {
      "image/png": "[encoded data removed]",
      "text/plain": [
       "<Figure size 1440x288 with 14 Axes>"
      ]
     },
     "metadata": {
      "needs_background": "light"
     },
     "output_type": "display_data"
    }
   ],
   "source": [
    "fig, axes = plt.subplots(1,len(generative_clothes), figsize=(20,4))\n",
    "for i, ax in enumerate(axes.ravel()):\n",
    "    ax.imshow(generative_clothes[i], cmap='bone_r')\n",
    "    ax.axis('off')\n",
    "plt.suptitle('sampling from latent space', y=.3)\n",
    "plt.show()"
   ]
  },
  {
   "cell_type": "markdown",
   "metadata": {},
   "source": [
    "If you're running a live notebook, using the slider is quite an interesting experience!"
   ]
  },
  {
   "cell_type": "code",
   "execution_count": 115,
   "metadata": {},
   "outputs": [
    {
     "data": {
      "application/vnd.jupyter.widget-view+json": {
       "model_id": "3589319e2aaf4bf0970952544e2ec667",
       "version_major": 2,
       "version_minor": 0
      },
      "text/plain": [
       "interactive(children=(FloatSlider(value=1.5, description='x', max=3.0, step=0.02), Output()), _dom_classes=('w…"
      ]
     },
     "metadata": {},
     "output_type": "display_data"
    },
    {
     "data": {
      "text/plain": [
       "<function __main__.slide_f(x)>"
      ]
     },
     "execution_count": 115,
     "metadata": {},
     "output_type": "execute_result"
    }
   ],
   "source": [
    "from ipywidgets import interact, interactive, fixed, interact_manual\n",
    "import ipywidgets as widgets\n",
    "\n",
    "def slide_f(x):\n",
    "    plt.figure(figsize=(2,2))\n",
    "    ev_mu_sl = ev_mu.add(x)\n",
    "    ev_param_tensor = model.parametric(ev_mu_sl,ev_sigma)\n",
    "    ev_out = model.decode(ev_param_tensor).cpu().detach().numpy().reshape(28,28)\n",
    "    plt.imshow(ev_out, cmap='bone_r')\n",
    "\n",
    "\n",
    "interact(slide_f, x=(0, 3.0, 0.02))"
   ]
  },
  {
   "cell_type": "markdown",
   "metadata": {},
   "source": [
    "And that's all for today!"
   ]
  }
 ],
 "metadata": {
  "kernelspec": {
   "display_name": "Python 3",
   "language": "python",
   "name": "python3"
  },
  "language_info": {
   "codemirror_mode": {
    "name": "ipython",
    "version": 3
   },
   "file_extension": ".py",
   "mimetype": "text/x-python",
   "name": "python",
   "nbconvert_exporter": "python",
   "pygments_lexer": "ipython3",
   "version": "3.6.8"
  }
 },
 "nbformat": 4,
 "nbformat_minor": 2
}
