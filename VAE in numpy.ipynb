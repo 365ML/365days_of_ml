{
 "cells": [
  {
   "cell_type": "code",
   "execution_count": 1,
   "metadata": {},
   "outputs": [],
   "source": [
    "import torch\n",
    "import numpy as np\n",
    "from torch.utils.data import Dataset, DataLoader\n",
    "from torch import nn\n",
    "from torchvision import transforms\n",
    "import matplotlib.pyplot as plt\n",
    "import torchvision\n",
    "import torch.nn.functional as F\n",
    "from torch.autograd import Variable\n",
    "from torch import optim\n",
    "\n",
    "%matplotlib inline\n",
    "\n",
    "# started 18.53\n",
    "# finished 20.18\n"
   ]
  },
  {
   "cell_type": "code",
   "execution_count": 2,
   "metadata": {},
   "outputs": [
    {
     "data": {
      "text/plain": [
       "Dataset FashionMNIST\n",
       "    Number of datapoints: 60000\n",
       "    Split: train\n",
       "    Root Location: day1/data\n",
       "    Transforms (if any): Compose(\n",
       "                             ToTensor()\n",
       "                             Normalize(mean=(0.5, 0.5, 0.5), std=(0.5, 0.5, 0.5))\n",
       "                         )\n",
       "    Target Transforms (if any): None"
      ]
     },
     "execution_count": 2,
     "metadata": {},
     "output_type": "execute_result"
    }
   ],
   "source": [
    "trans = transforms.Compose([transforms.ToTensor(),\n",
    "                                    transforms.Normalize((0.5, 0.5, 0.5), (0.5, 0.5, 0.5))])\n",
    "\n",
    "dataset = torchvision.datasets.FashionMNIST('day1/data', \n",
    "                                            download=True, \n",
    "                                            transform=trans)\n",
    "\n",
    "dataset"
   ]
  },
  {
   "cell_type": "code",
   "execution_count": 3,
   "metadata": {},
   "outputs": [
    {
     "name": "stdout",
     "output_type": "stream",
     "text": [
      "we have CUDA!\n"
     ]
    }
   ],
   "source": [
    "GPU = True\n",
    "\n",
    "if not torch.cuda.is_available():\n",
    "    print('no GPU detected, check CUDA install')\n",
    "    GPU = False\n",
    "    \n",
    "if GPU:\n",
    "    print('we have CUDA!')\n",
    "\n",
    "batch_size = 128\n",
    "learning_rate = 1e-3\n",
    "\n",
    "dataloader = DataLoader(dataset, batch_size=batch_size, shuffle=True)"
   ]
  },
  {
   "cell_type": "code",
   "execution_count": 4,
   "metadata": {},
   "outputs": [
    {
     "data": {
      "image/png": "[encoded data removed]",
      "text/plain": [
       "<Figure size 432x288 with 9 Axes>"
      ]
     },
     "metadata": {
      "needs_background": "light"
     },
     "output_type": "display_data"
    }
   ],
   "source": [
    "classes = ['T-shirt/top','Trouser','Pullover','Dress','Coat',\n",
    "           'Sandal','Shirt','Sneaker','Bag','Ankle boot']\n",
    "\n",
    "fig, axes = plt.subplots(3,3)\n",
    "for ax in axes.ravel():\n",
    "    r= iter(dataloader).next()\n",
    "    ax.imshow(r[0].numpy()[1].reshape(28,28))\n",
    "    ax.set_title('class: '+classes[r[1].numpy()[1]])\n",
    "plt.tight_layout()"
   ]
  },
  {
   "cell_type": "code",
   "execution_count": 5,
   "metadata": {},
   "outputs": [],
   "source": [
    "class VAE(nn.Module):\n",
    "    def __init__(self):\n",
    "        super().__init__()\n",
    "        \n",
    "        self.input_layer = nn.Linear(784, 400)\n",
    "        self.mu = nn.Linear(400, 20)\n",
    "        self.sigma = nn.Linear(400, 20)\n",
    "        \n",
    "        self.upscale_sample = nn.Linear(20, 400)\n",
    "        self.output_layer = nn.Linear(400, 784)\n",
    "        \n",
    "    def encode(self, x):\n",
    "        x = F.relu(self.input_layer(x))\n",
    "        return self.mu(x), self.sigma(x)\n",
    "    \n",
    "    def parametric(self, mu, sigma):\n",
    "        # A gaussian with\n",
    "        # mu mean between 0 and inf\n",
    "        # sigma std between 0 and inf\n",
    "        \n",
    "        std = sigma.exp()\n",
    "        if GPU:\n",
    "            sample = torch.cuda.FloatTensor(mu.size()).normal_()\n",
    "        else:\n",
    "            sample = torch.FloatTensor(mu.size()).normal_()\n",
    "            \n",
    "        sample = Variable(sample)\n",
    "        return sample.mul(std).add(mu)\n",
    "    \n",
    "    def decode(self, sample):\n",
    "        x = F.relu(self.upscale_sample(sample))\n",
    "        return F.sigmoid(self.output_layer(x))\n",
    "    \n",
    "    \n",
    "    def forward(self, x):\n",
    "        mu, sigma = self.encode(x)\n",
    "        sample = self.parametric(mu, sigma)\n",
    "        return self.decode(sample), mu, sigma"
   ]
  },
  {
   "cell_type": "code",
   "execution_count": 6,
   "metadata": {},
   "outputs": [],
   "source": [
    "model = VAE()\n",
    "\n",
    "if GPU:\n",
    "    model.cuda()"
   ]
  },
  {
   "cell_type": "code",
   "execution_count": 7,
   "metadata": {},
   "outputs": [],
   "source": [
    "def loss_function(reconstructed, ground_truth, mu, sigma):\n",
    "    image_loss = nn.MSELoss(reduction='sum')(reconstructed, ground_truth)\n",
    "    KL_divergence_loss = -0.5 * torch.sum(1 + sigma - mu.pow(2) - sigma.exp())\n",
    "    return image_loss, KL_divergence_loss\n",
    "\n",
    "\n",
    "optimizer = optim.Adam(model.parameters(), lr=1e-3)"
   ]
  },
  {
   "cell_type": "code",
   "execution_count": 8,
   "metadata": {},
   "outputs": [
    {
     "name": "stderr",
     "output_type": "stream",
     "text": [
      "C:\\Users\\tofed\\AppData\\Local\\conda\\conda\\envs\\pytorch\\lib\\site-packages\\torch\\nn\\functional.py:1332: UserWarning: nn.functional.sigmoid is deprecated. Use torch.sigmoid instead.\n",
      "  warnings.warn(\"nn.functional.sigmoid is deprecated. Use torch.sigmoid instead.\")\n"
     ]
    },
    {
     "name": "stdout",
     "output_type": "stream",
     "text": [
      "141570.53125 76.30748748779297\n",
      "62158.796875 923.8842163085938\n",
      "63685.78125 899.8069458007812\n",
      "====> Epoch: 0 Average loss: 512.2761\n",
      "61691.83203125 912.9075927734375\n",
      "62547.3046875 809.7001342773438\n",
      "61067.2265625 872.2086181640625\n",
      "====> Epoch: 1 Average loss: 486.8415\n",
      "61176.6796875 753.4815063476562\n",
      "62534.49609375 927.3240966796875\n",
      "59924.6484375 840.8082275390625\n",
      "====> Epoch: 2 Average loss: 482.3947\n",
      "58790.375 865.68408203125\n",
      "62306.609375 898.2361450195312\n",
      "59934.0703125 811.5535888671875\n",
      "====> Epoch: 3 Average loss: 480.0275\n",
      "61610.44921875 969.914794921875\n",
      "60002.09375 823.1473999023438\n",
      "59961.3203125 844.6142578125\n",
      "====> Epoch: 4 Average loss: 478.5840\n",
      "60670.8515625 872.430908203125\n",
      "62622.671875 822.82080078125\n",
      "60850.546875 871.635009765625\n",
      "====> Epoch: 5 Average loss: 477.5555\n",
      "61396.25390625 796.1622314453125\n",
      "60837.7578125 886.8209838867188\n",
      "60856.15625 830.3515625\n",
      "====> Epoch: 6 Average loss: 476.8086\n",
      "60092.421875 871.1528930664062\n",
      "61904.23828125 834.7747192382812\n",
      "59614.4453125 880.1639404296875\n",
      "====> Epoch: 7 Average loss: 476.2438\n",
      "59408.79296875 820.9776611328125\n",
      "59503.9140625 980.0921630859375\n",
      "62450.7109375 826.97607421875\n",
      "====> Epoch: 8 Average loss: 475.8213\n",
      "59743.796875 944.234375\n",
      "60338.75 852.0821533203125\n",
      "58908.7265625 900.7848510742188\n",
      "====> Epoch: 9 Average loss: 475.4694\n",
      "61281.546875 907.4546508789062\n",
      "58643.23046875 880.6665649414062\n",
      "60533.83984375 884.0706787109375\n",
      "====> Epoch: 10 Average loss: 475.1577\n",
      "58274.6640625 843.4359130859375\n",
      "58140.9765625 1024.91015625\n",
      "59209.86328125 936.5389404296875\n",
      "====> Epoch: 11 Average loss: 474.9050\n",
      "61463.28125 815.9089965820312\n",
      "59881.21484375 958.9764404296875\n",
      "60344.08203125 947.109375\n",
      "====> Epoch: 12 Average loss: 474.6858\n",
      "59592.203125 919.8065795898438\n",
      "58821.3046875 994.6468505859375\n",
      "58779.203125 862.707763671875\n",
      "====> Epoch: 13 Average loss: 474.4860\n",
      "58704.8359375 977.0289306640625\n",
      "58207.3828125 937.8530883789062\n",
      "60952.4921875 896.920166015625\n",
      "====> Epoch: 14 Average loss: 474.3107\n",
      "57580.03125 959.815673828125\n",
      "61057.546875 976.3218994140625\n",
      "58808.2734375 990.413818359375\n",
      "====> Epoch: 15 Average loss: 474.1815\n",
      "58062.1796875 898.2197875976562\n",
      "61081.390625 928.0185546875\n",
      "61718.7421875 876.3575439453125\n",
      "====> Epoch: 16 Average loss: 473.9658\n",
      "58507.4375 913.5126953125\n",
      "60284.63671875 897.5640869140625\n",
      "59673.109375 890.432373046875\n",
      "====> Epoch: 17 Average loss: 473.8436\n",
      "58498.86328125 913.7403564453125\n",
      "58821.21875 880.0513916015625\n",
      "57853.7109375 942.957763671875\n",
      "====> Epoch: 18 Average loss: 473.7450\n",
      "58557.8046875 955.7973022460938\n",
      "58083.58203125 898.888427734375\n",
      "60158.7578125 929.7373657226562\n",
      "====> Epoch: 19 Average loss: 473.6404\n",
      "60038.203125 883.422607421875\n",
      "58313.48828125 992.7837524414062\n",
      "60143.1953125 922.51416015625\n",
      "====> Epoch: 20 Average loss: 473.5667\n",
      "61340.83203125 861.2655029296875\n",
      "61026.3125 874.971435546875\n",
      "61213.3046875 910.7615356445312\n",
      "====> Epoch: 21 Average loss: 473.4746\n",
      "58976.40625 909.9400024414062\n",
      "61497.9140625 887.4894409179688\n",
      "58066.234375 997.22412109375\n",
      "====> Epoch: 22 Average loss: 473.4016\n",
      "60692.484375 863.1564331054688\n",
      "59909.0859375 841.609375\n",
      "59457.9453125 953.5095825195312\n",
      "====> Epoch: 23 Average loss: 473.3308\n",
      "61598.87890625 915.97705078125\n",
      "59452.4296875 919.479736328125\n",
      "58403.94140625 921.5224609375\n",
      "====> Epoch: 24 Average loss: 473.2433\n",
      "57108.453125 945.5614013671875\n",
      "60020.5078125 858.9176025390625\n",
      "58466.515625 938.3883666992188\n",
      "====> Epoch: 25 Average loss: 473.1405\n",
      "58853.8828125 968.4532470703125\n",
      "60507.7421875 802.4654541015625\n",
      "59055.11328125 833.20849609375\n",
      "====> Epoch: 26 Average loss: 473.1296\n",
      "60610.1484375 957.2828979492188\n",
      "57622.95703125 879.4557495117188\n",
      "63019.171875 879.1668701171875\n",
      "====> Epoch: 27 Average loss: 473.0870\n",
      "60313.8984375 942.1985473632812\n",
      "61646.4375 897.6454467773438\n",
      "62125.703125 844.7684326171875\n",
      "====> Epoch: 28 Average loss: 473.0187\n",
      "58942.7265625 895.1505126953125\n",
      "59642.32421875 924.6885986328125\n",
      "60179.70703125 868.533447265625\n",
      "====> Epoch: 29 Average loss: 472.9682\n",
      "59748.42578125 854.6581420898438\n",
      "58684.734375 908.1453857421875\n",
      "58865.9609375 878.7109375\n",
      "====> Epoch: 30 Average loss: 472.9377\n",
      "60386.0 869.63427734375\n",
      "59151.5078125 949.3831787109375\n",
      "57151.3046875 879.3848266601562\n",
      "====> Epoch: 31 Average loss: 472.8968\n",
      "60479.1875 876.316162109375\n",
      "59463.9921875 969.966552734375\n",
      "60471.98828125 932.46826171875\n",
      "====> Epoch: 32 Average loss: 472.8527\n",
      "59772.57421875 879.5782470703125\n",
      "60912.3203125 854.7523193359375\n",
      "58071.84375 1003.443115234375\n",
      "====> Epoch: 33 Average loss: 472.8155\n",
      "60806.0546875 963.8749389648438\n",
      "60595.765625 1045.205078125\n",
      "58471.66796875 919.7813110351562\n",
      "====> Epoch: 34 Average loss: 472.7879\n",
      "61124.0859375 895.8245849609375\n",
      "60204.20703125 902.6096801757812\n",
      "61281.84375 880.1385498046875\n",
      "====> Epoch: 35 Average loss: 472.7543\n",
      "59653.18359375 888.3020629882812\n",
      "58947.34375 975.5768432617188\n",
      "60365.3125 891.2960815429688\n",
      "====> Epoch: 36 Average loss: 472.7269\n",
      "61110.4609375 881.5704956054688\n",
      "57268.38671875 930.1892700195312\n",
      "59785.265625 914.8056640625\n",
      "====> Epoch: 37 Average loss: 472.6977\n",
      "59325.54296875 947.6275634765625\n",
      "60001.5546875 923.3344116210938\n",
      "57394.0625 982.5182495117188\n",
      "====> Epoch: 38 Average loss: 472.6661\n",
      "61604.0625 903.7937622070312\n",
      "58444.1171875 916.8763427734375\n",
      "62219.890625 979.8460693359375\n",
      "====> Epoch: 39 Average loss: 472.6522\n",
      "59633.35546875 946.5713500976562\n",
      "59345.8984375 904.1768188476562\n",
      "60285.484375 908.8529052734375\n",
      "====> Epoch: 40 Average loss: 472.5904\n",
      "58450.15625 968.9859619140625\n",
      "60729.171875 861.7528076171875\n",
      "58307.09765625 859.4742431640625\n",
      "====> Epoch: 41 Average loss: 472.5946\n",
      "58877.4296875 892.5792846679688\n",
      "57790.66796875 989.9673461914062\n",
      "60466.515625 905.3436889648438\n",
      "====> Epoch: 42 Average loss: 472.5588\n",
      "59376.3359375 995.1445922851562\n",
      "60154.265625 991.861572265625\n",
      "60618.390625 942.0479736328125\n",
      "====> Epoch: 43 Average loss: 472.5563\n",
      "57886.8359375 977.334228515625\n",
      "60728.9765625 895.8428955078125\n",
      "59708.2734375 892.80810546875\n",
      "====> Epoch: 44 Average loss: 472.5335\n",
      "59870.1796875 923.1259765625\n",
      "60747.0625 905.24072265625\n",
      "59632.9453125 904.6727905273438\n",
      "====> Epoch: 45 Average loss: 472.4943\n",
      "58356.890625 976.7401123046875\n",
      "61909.76171875 877.320068359375\n",
      "59743.96875 937.6216430664062\n",
      "====> Epoch: 46 Average loss: 472.4713\n",
      "58532.203125 860.598388671875\n",
      "62692.5 933.9935302734375\n",
      "58937.4921875 918.1585693359375\n",
      "====> Epoch: 47 Average loss: 472.4586\n",
      "61148.7421875 907.3524169921875\n",
      "60352.9140625 897.1132202148438\n",
      "61452.0 871.465087890625\n",
      "====> Epoch: 48 Average loss: 472.4578\n",
      "59111.7890625 911.930419921875\n",
      "61626.6328125 914.4859619140625\n",
      "58472.5 989.4468994140625\n",
      "====> Epoch: 49 Average loss: 472.4215\n",
      "58938.83984375 900.3046875\n",
      "59963.9921875 957.917724609375\n",
      "58652.21484375 940.81396484375\n",
      "====> Epoch: 50 Average loss: 472.3979\n",
      "57903.95703125 888.048828125\n",
      "60183.625 888.3856811523438\n",
      "62498.58984375 926.2838134765625\n",
      "====> Epoch: 51 Average loss: 472.3852\n",
      "60150.29296875 933.6307373046875\n",
      "59155.625 938.455322265625\n",
      "57946.875 1001.0188598632812\n",
      "====> Epoch: 52 Average loss: 472.3437\n",
      "59700.890625 891.9833374023438\n",
      "59468.8203125 892.966064453125\n",
      "57861.2265625 914.5603637695312\n",
      "====> Epoch: 53 Average loss: 472.3504\n",
      "62612.30859375 929.6097412109375\n",
      "57157.5 973.3407592773438\n",
      "62794.046875 838.3631591796875\n",
      "====> Epoch: 54 Average loss: 472.3391\n",
      "58989.40234375 941.6784057617188\n",
      "58177.6015625 921.558349609375\n",
      "59754.2421875 839.5965576171875\n",
      "====> Epoch: 55 Average loss: 472.3060\n",
      "56638.25 960.5458984375\n",
      "59861.51953125 892.9508056640625\n",
      "59845.21875 982.6981201171875\n",
      "====> Epoch: 56 Average loss: 472.3041\n",
      "58953.15234375 991.2364501953125\n",
      "60162.484375 902.8388671875\n",
      "60743.3984375 950.9478149414062\n",
      "====> Epoch: 57 Average loss: 472.2728\n",
      "58833.88671875 927.421142578125\n",
      "61247.55859375 961.071533203125\n",
      "58195.26953125 948.1808471679688\n",
      "====> Epoch: 58 Average loss: 472.2613\n",
      "60007.7109375 900.00927734375\n",
      "60424.0 950.9373779296875\n",
      "59927.171875 895.6776733398438\n",
      "====> Epoch: 59 Average loss: 472.2423\n",
      "60167.1328125 902.5711669921875\n",
      "58052.38671875 881.1057739257812\n",
      "59793.421875 1008.4418334960938\n",
      "====> Epoch: 60 Average loss: 472.2082\n",
      "59898.96484375 921.2282104492188\n",
      "60562.75390625 868.5289306640625\n",
      "59512.8671875 912.745361328125\n",
      "====> Epoch: 61 Average loss: 472.2281\n",
      "60765.21875 872.0533447265625\n"
     ]
    },
    {
     "name": "stdout",
     "output_type": "stream",
     "text": [
      "60498.4296875 873.8518676757812\n",
      "60496.08984375 923.9122314453125\n",
      "====> Epoch: 62 Average loss: 472.1891\n",
      "58812.0625 926.78466796875\n",
      "60441.9296875 915.5458984375\n",
      "60167.640625 829.7271728515625\n",
      "====> Epoch: 63 Average loss: 472.1690\n",
      "58135.98828125 879.1986083984375\n",
      "59465.75 947.0660400390625\n",
      "58465.21875 917.1665649414062\n",
      "====> Epoch: 64 Average loss: 472.1643\n",
      "59277.19140625 876.5657958984375\n",
      "60768.25390625 948.166259765625\n",
      "60035.55859375 875.0403442382812\n",
      "====> Epoch: 65 Average loss: 472.1624\n",
      "59363.6875 929.8663330078125\n",
      "59200.6953125 1000.7708740234375\n",
      "59084.4921875 923.8638305664062\n",
      "====> Epoch: 66 Average loss: 472.1569\n",
      "61795.9453125 835.1170043945312\n",
      "58927.375 862.750732421875\n",
      "59474.21875 937.945556640625\n",
      "====> Epoch: 67 Average loss: 472.1383\n",
      "58562.25 889.0374145507812\n",
      "58927.2890625 909.1109008789062\n",
      "59980.18359375 962.0538330078125\n",
      "====> Epoch: 68 Average loss: 472.1258\n",
      "60098.2734375 881.295166015625\n",
      "59651.36328125 878.0264892578125\n",
      "61031.71484375 933.5459594726562\n",
      "====> Epoch: 69 Average loss: 472.1219\n",
      "60731.9921875 891.8992919921875\n",
      "59648.96484375 883.2832641601562\n",
      "57944.94140625 919.2745971679688\n",
      "====> Epoch: 70 Average loss: 472.0938\n",
      "60709.3671875 932.5594482421875\n",
      "58123.875 996.2017822265625\n",
      "58751.06640625 884.631591796875\n",
      "====> Epoch: 71 Average loss: 472.0840\n",
      "59909.74609375 879.7343139648438\n",
      "59933.21484375 900.4041748046875\n",
      "59006.17578125 890.9854736328125\n",
      "====> Epoch: 72 Average loss: 472.0885\n",
      "60059.5234375 994.014404296875\n",
      "59746.2421875 907.586181640625\n",
      "58348.734375 930.0901489257812\n",
      "====> Epoch: 73 Average loss: 472.0669\n",
      "60648.95703125 865.8956298828125\n",
      "59052.265625 908.3143310546875\n",
      "58069.90625 917.6885375976562\n",
      "====> Epoch: 74 Average loss: 472.0533\n",
      "60602.875 981.0325927734375\n",
      "60697.671875 838.3331298828125\n",
      "60759.8671875 903.2332153320312\n",
      "====> Epoch: 75 Average loss: 472.0459\n",
      "60422.37109375 907.2305297851562\n",
      "58779.171875 934.2083129882812\n",
      "58789.05859375 887.0267333984375\n",
      "====> Epoch: 76 Average loss: 472.0562\n",
      "60258.30859375 839.9857177734375\n",
      "59593.1484375 919.83154296875\n",
      "58984.12109375 861.5812377929688\n",
      "====> Epoch: 77 Average loss: 472.0231\n",
      "58630.1796875 861.4715576171875\n",
      "60240.765625 1033.5792236328125\n",
      "57185.75390625 990.529296875\n",
      "====> Epoch: 78 Average loss: 472.0509\n",
      "56333.4375 947.8145141601562\n",
      "58060.27734375 907.5250244140625\n",
      "59003.203125 937.3753051757812\n",
      "====> Epoch: 79 Average loss: 471.9907\n",
      "61401.0390625 883.1322021484375\n",
      "60949.41796875 923.5971069335938\n",
      "61049.2265625 886.978759765625\n",
      "====> Epoch: 80 Average loss: 472.0058\n",
      "60712.484375 891.8056030273438\n",
      "60462.2421875 847.3983154296875\n",
      "56691.5078125 944.6103515625\n",
      "====> Epoch: 81 Average loss: 472.0153\n",
      "59802.48046875 939.5332641601562\n",
      "59993.8671875 939.56201171875\n",
      "59550.22265625 915.81201171875\n",
      "====> Epoch: 82 Average loss: 472.0176\n",
      "59541.828125 837.2691040039062\n",
      "57510.48828125 857.8363647460938\n",
      "58994.796875 950.4500732421875\n",
      "====> Epoch: 83 Average loss: 471.9593\n",
      "60709.14453125 915.2797241210938\n",
      "59467.22265625 872.5947875976562\n",
      "58494.1796875 933.784423828125\n",
      "====> Epoch: 84 Average loss: 471.9721\n",
      "60663.796875 883.0596923828125\n",
      "57517.24609375 958.9733276367188\n",
      "58521.3515625 959.2626342773438\n",
      "====> Epoch: 85 Average loss: 471.9791\n",
      "56657.4140625 944.8905029296875\n",
      "57376.5703125 950.59375\n",
      "60812.50390625 958.6280517578125\n",
      "====> Epoch: 86 Average loss: 471.9494\n",
      "61146.8046875 861.3612060546875\n",
      "58680.08984375 851.4569091796875\n",
      "58619.80859375 880.721435546875\n",
      "====> Epoch: 87 Average loss: 471.9293\n",
      "60954.76953125 896.1758422851562\n",
      "59868.57421875 919.5906982421875\n",
      "57039.2109375 961.193115234375\n",
      "====> Epoch: 88 Average loss: 471.9571\n",
      "60520.265625 898.7664794921875\n",
      "61000.6015625 875.1500854492188\n",
      "56789.6328125 888.5361328125\n",
      "====> Epoch: 89 Average loss: 471.9683\n",
      "59251.578125 925.4307861328125\n",
      "58802.23828125 938.876708984375\n",
      "60044.87109375 885.1929321289062\n",
      "====> Epoch: 90 Average loss: 471.8983\n",
      "59515.0625 991.0196533203125\n",
      "60367.9765625 906.1237182617188\n",
      "57378.90625 927.9854125976562\n",
      "====> Epoch: 91 Average loss: 471.9294\n",
      "60747.578125 884.87060546875\n",
      "58713.4140625 966.7899169921875\n",
      "61070.30859375 990.3154296875\n",
      "====> Epoch: 92 Average loss: 471.9339\n",
      "59088.80078125 955.247802734375\n",
      "59711.03125 939.8731689453125\n",
      "59320.0 852.6676025390625\n",
      "====> Epoch: 93 Average loss: 471.9255\n",
      "58421.40625 953.8675537109375\n",
      "58209.5390625 925.739990234375\n",
      "57197.8203125 923.4022216796875\n",
      "====> Epoch: 94 Average loss: 471.8901\n",
      "58141.9609375 928.475830078125\n",
      "60827.4296875 933.427001953125\n",
      "60968.8046875 884.2943725585938\n",
      "====> Epoch: 95 Average loss: 471.8866\n",
      "59194.984375 953.5435791015625\n",
      "56930.25 963.3388671875\n",
      "59951.90625 961.12646484375\n",
      "====> Epoch: 96 Average loss: 471.8964\n",
      "57470.40625 902.7444458007812\n",
      "59185.5234375 933.7932739257812\n",
      "61461.4453125 792.309326171875\n",
      "====> Epoch: 97 Average loss: 471.8589\n",
      "59019.30859375 901.9940185546875\n",
      "58327.625 983.1047973632812\n",
      "60065.375 922.0292358398438\n",
      "====> Epoch: 98 Average loss: 471.8489\n",
      "59743.4765625 889.127197265625\n",
      "59817.71484375 849.1644287109375\n",
      "60894.40234375 790.6411743164062\n",
      "====> Epoch: 99 Average loss: 471.8515\n"
     ]
    }
   ],
   "source": [
    "epochs = 100\n",
    "\n",
    "for epoch in range(epochs):\n",
    "    model.train()\n",
    "    train_loss = 0\n",
    "    for batch_id, data in enumerate(dataloader):\n",
    "        img, _ = data\n",
    "        # reshape\n",
    "        img = img.view(img.size(0), -1)\n",
    "        img = Variable(img)\n",
    "        if GPU:\n",
    "            img = img.cuda()\n",
    "        \n",
    "        optimizer.zero_grad()\n",
    "        \n",
    "        batch, mu, sigma = model(img)\n",
    "        loss_im, loss_kl = loss_function(batch, img, mu, sigma)\n",
    "        loss = loss_im+ loss_kl\n",
    "        loss.backward()\n",
    "        optimizer.step()\n",
    "        \n",
    "        train_loss += loss.data.item()\n",
    "        \n",
    "        if batch_id % 200 == 0:\n",
    "            print(loss_im.item(), loss_kl.item())\n",
    "       \n",
    "    print('====> Epoch: {} Average loss: {:.4f}'.format(\n",
    "    epoch, train_loss / len(dataloader.dataset)))"
   ]
  },
  {
   "cell_type": "code",
   "execution_count": 51,
   "metadata": {},
   "outputs": [
    {
     "data": {
      "image/png": "[encoded data removed]",
      "text/plain": [
       "<Figure size 432x288 with 1 Axes>"
      ]
     },
     "metadata": {
      "needs_background": "light"
     },
     "output_type": "display_data"
    }
   ],
   "source": [
    "ev_img = iter(dataloader).next()[0].numpy()[1].reshape(28,28)\n",
    "plt.imshow(ev_img)\n",
    "ev_img_r = ev_img.ravel()"
   ]
  },
  {
   "cell_type": "code",
   "execution_count": 52,
   "metadata": {},
   "outputs": [
    {
     "data": {
      "text/plain": [
       "<matplotlib.image.AxesImage at 0x1e3f6751390>"
      ]
     },
     "execution_count": 52,
     "metadata": {},
     "output_type": "execute_result"
    },
    {
     "data": {
      "image/png": "[encoded data removed]",
      "text/plain": [
       "<Figure size 432x288 with 2 Axes>"
      ]
     },
     "metadata": {
      "needs_background": "light"
     },
     "output_type": "display_data"
    }
   ],
   "source": [
    "model.eval()\n",
    "ev_mu, ev_sigma = model.encode(torch.from_numpy(ev_img_r).cuda())\n",
    "ev_param_tensor = model.parametric(ev_mu,ev_sigma)\n",
    "ev_out = model.decode(ev_param_tensor).cpu().detach().numpy().reshape(28,28)\n",
    "\n",
    "fig, ax = plt.subplots(1,2)\n",
    "ax[0].set_title('original image')\n",
    "ax[0].imshow(ev_img)\n",
    "ax[1].set_title('reconstructed')\n",
    "ax[1].imshow(ev_out)"
   ]
  },
  {
   "cell_type": "code",
   "execution_count": 29,
   "metadata": {},
   "outputs": [
    {
     "data": {
      "application/vnd.jupyter.widget-view+json": {
       "model_id": "5c5ca842b7f74f49be8b420c030b950a",
       "version_major": 2,
       "version_minor": 0
      },
      "text/plain": [
       "interactive(children=(FloatSlider(value=1.5, description='x', max=3.0, step=0.02), Output()), _dom_classes=('w…"
      ]
     },
     "metadata": {},
     "output_type": "display_data"
    },
    {
     "data": {
      "text/plain": [
       "<function __main__.slide_f(x)>"
      ]
     },
     "execution_count": 29,
     "metadata": {},
     "output_type": "execute_result"
    }
   ],
   "source": [
    "from ipywidgets import interact, interactive, fixed, interact_manual\n",
    "import ipywidgets as widgets\n",
    "\n",
    "def slide_f(x):\n",
    "    plt.figure(figsize=(2,2))\n",
    "    ev_mu_sl = ev_mu.add(x)\n",
    "    ev_param_tensor = model.parametric(ev_mu_sl,ev_sigma)\n",
    "    ev_out = model.decode(ev_param_tensor).cpu().detach().numpy().reshape(28,28)\n",
    "    plt.imshow(ev_out)\n",
    "\n",
    "\n",
    "interact(slide_f, x=(0, 3.0, 0.02))"
   ]
  },
  {
   "cell_type": "code",
   "execution_count": null,
   "metadata": {},
   "outputs": [],
   "source": []
  },
  {
   "cell_type": "code",
   "execution_count": 30,
   "metadata": {},
   "outputs": [
    {
     "data": {
      "text/plain": [
       "<matplotlib.image.AxesImage at 0x1e3c0285da0>"
      ]
     },
     "execution_count": 30,
     "metadata": {},
     "output_type": "execute_result"
    },
    {
     "data": {
      "image/png": "[encoded data removed]",
      "text/plain": [
       "<Figure size 432x288 with 1 Axes>"
      ]
     },
     "metadata": {
      "needs_background": "light"
     },
     "output_type": "display_data"
    }
   ],
   "source": []
  },
  {
   "cell_type": "code",
   "execution_count": 105,
   "metadata": {},
   "outputs": [],
   "source": [
    "loss_function(torch.cuda.FloatTensor(size=(10,)),\n",
    "              torch.cuda.FloatTensor(size=(10,)),\n",
    "              torch.cuda.FloatTensor(size=(10,)),\n",
    "              torch.cuda.FloatTensor(size=(10,)))"
   ]
  },
  {
   "cell_type": "code",
   "execution_count": 86,
   "metadata": {},
   "outputs": [
    {
     "data": {
      "text/plain": [
       "tensor([ 1.7917, -0.7227, -1.2550,  1.2417,  0.1452,  1.0884, -1.7864, -0.7155,\n",
       "        -1.4950, -1.2023], device='cuda:0')"
      ]
     },
     "execution_count": 86,
     "metadata": {},
     "output_type": "execute_result"
    }
   ],
   "source": []
  },
  {
   "cell_type": "code",
   "execution_count": 40,
   "metadata": {},
   "outputs": [
    {
     "data": {
      "text/plain": [
       "784"
      ]
     },
     "execution_count": 40,
     "metadata": {},
     "output_type": "execute_result"
    }
   ],
   "source": [
    "28*28"
   ]
  },
  {
   "cell_type": "code",
   "execution_count": 119,
   "metadata": {},
   "outputs": [
    {
     "data": {
      "text/plain": [
       "array([       inf, 0.36787945,        inf, 0.36787945, 0.36787945,\n",
       "       0.36787945,        nan,        nan, 0.36787945, 0.36787945],\n",
       "      dtype=float32)"
      ]
     },
     "execution_count": 119,
     "metadata": {},
     "output_type": "execute_result"
    }
   ],
   "source": [
    "torch.FloatTensor(size=(10,)).mul_(.1).sub_(1).exp_().numpy()"
   ]
  },
  {
   "cell_type": "code",
   "execution_count": null,
   "metadata": {},
   "outputs": [],
   "source": []
  }
 ],
 "metadata": {
  "kernelspec": {
   "display_name": "Python 3",
   "language": "python",
   "name": "python3"
  },
  "language_info": {
   "codemirror_mode": {
    "name": "ipython",
    "version": 3
   },
   "file_extension": ".py",
   "mimetype": "text/x-python",
   "name": "python",
   "nbconvert_exporter": "python",
   "pygments_lexer": "ipython3",
   "version": "3.6.8"
  }
 },
 "nbformat": 4,
 "nbformat_minor": 2
}
